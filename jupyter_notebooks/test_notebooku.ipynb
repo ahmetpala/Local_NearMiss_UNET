{
 "cells": [
  {
   "cell_type": "code",
   "execution_count": 50,
   "metadata": {
    "collapsed": true
   },
   "outputs": [],
   "source": [
    "from data.echogram import DataReaderZarr, get_data_readers\n",
    "import numpy as np\n",
    "from tqdm import tqdm\n",
    "import dask\n",
    "import pandas as pd\n",
    "import matplotlib.pyplot as plt\n",
    "from scipy.ndimage.morphology import binary_closing\n",
    "from scipy import stats as st\n",
    "from pandas.plotting import scatter_matrix\n",
    "import xarray as xr\n",
    "import seaborn as sns\n",
    "\n",
    "dask.config.set(**{'array.slicing.split_large_chunks': False})\n",
    "\n",
    "#  Path to surveys\n",
    "survey_path = 'C:/Users/apa055/Desktop/data/2019' #'/Users/apa055/Desktop/data'\n",
    "\n",
    "#  Get list of relevant surveys\n",
    "surveys = ['/S2019847/ACOUSTIC/GRIDDED/S2019847_sv.zarr']\n",
    "readers = [DataReaderZarr(survey_path + zarr_file) for zarr_file in surveys]\n",
    "\n",
    "# Or alternatively ...\n",
    "# readers = get_data_readers()\n",
    "\n",
    "patch_size = (256, 256)  # x, y\n",
    "survey = readers[0]"
   ]
  },
  {
   "cell_type": "code",
   "execution_count": 16,
   "outputs": [
    {
     "name": "stdout",
     "output_type": "stream",
     "text": [
      "Generating objects file with seabed distances ... \n"
     ]
    },
    {
     "data": {
      "text/plain": "                     ID  object         type  category  proportion  \\\n0         1__Layer-None       1   Layer-None      -1.0           1   \n1        2__School-6705       2  School-6705      -1.0           1   \n2        3__School-6706       3  School-6706      -1.0           1   \n3         4__Layer-None       4   Layer-None      -1.0           1   \n4        5__School-6707       5  School-6707      -1.0           1   \n...                 ...     ...          ...       ...         ...   \n1200  1201__School-7892    1201  School-7892      27.0           1   \n1201  1202__School-7893    1202  School-7893       1.0           1   \n1202  1203__School-7894    1203  School-7894      27.0           1   \n1203   1204__Layer-6772    1204   Layer-6772      -1.0           1   \n1204   1205__Layer-7918    1205   Layer-7918      -1.0           1   \n\n                       startping                     endping  startpingindex  \\\n0     2019-05-11 00:27:05.798000  2019-05-11 04:25:31.313000               0   \n1     2019-05-11 04:41:50.157000  2019-05-11 04:41:55.438000           43384   \n2     2019-05-11 04:41:57.188000  2019-05-11 04:42:05.626000           43404   \n3     2019-05-11 04:25:31.673000  2019-05-11 04:55:51.470000           40600   \n4     2019-05-11 05:09:34.157000  2019-05-11 05:09:52.798000           48119   \n...                          ...                         ...             ...   \n1200  2019-05-11 19:38:04.673000  2019-05-11 19:38:12.407000          196307   \n1201  2019-05-11 19:38:07.485000  2019-05-11 19:38:10.298000          196315   \n1202  2019-05-11 19:38:12.766000  2019-05-11 19:38:17.688000          196330   \n1203  2019-05-11 19:13:54.079000  2019-05-11 19:41:13.766000          192181   \n1204  2019-05-11 19:41:14.126000  2019-05-11 19:53:30.157000          196846   \n\n      endpingindex  upperdepth  lowerdepth  upperdepthindex  lowerdepthindex  \\\n0            40599   10.000000  122.707650                0              809   \n1            43399  115.156400  115.726265              551              577   \n2            43428  118.598854  118.903660              552              589   \n3            45778   10.000000  123.066840                0              618   \n4            48172  107.916664  109.056370              484              540   \n...            ...         ...         ...              ...              ...   \n1200        196329  102.787070  103.356926              495              506   \n1201        196323  100.881050  101.071000              488              494   \n1202        196344  102.855900  103.425760              500              505   \n1203        196845   10.000000   99.503876                5              529   \n1204        198940   10.000000  105.024100                6              527   \n\n      distance_to_seabed  valid_object  \n0                    NaN         False  \n1                    NaN         False  \n2                    NaN         False  \n3                    NaN         False  \n4                    NaN         False  \n...                  ...           ...  \n1200                -3.0          True  \n1201                 9.0          True  \n1202                -1.0          True  \n1203                 NaN         False  \n1204                 NaN         False  \n\n[1205 rows x 15 columns]",
      "text/html": "<div>\n<style scoped>\n    .dataframe tbody tr th:only-of-type {\n        vertical-align: middle;\n    }\n\n    .dataframe tbody tr th {\n        vertical-align: top;\n    }\n\n    .dataframe thead th {\n        text-align: right;\n    }\n</style>\n<table border=\"1\" class=\"dataframe\">\n  <thead>\n    <tr style=\"text-align: right;\">\n      <th></th>\n      <th>ID</th>\n      <th>object</th>\n      <th>type</th>\n      <th>category</th>\n      <th>proportion</th>\n      <th>startping</th>\n      <th>endping</th>\n      <th>startpingindex</th>\n      <th>endpingindex</th>\n      <th>upperdepth</th>\n      <th>lowerdepth</th>\n      <th>upperdepthindex</th>\n      <th>lowerdepthindex</th>\n      <th>distance_to_seabed</th>\n      <th>valid_object</th>\n    </tr>\n  </thead>\n  <tbody>\n    <tr>\n      <th>0</th>\n      <td>1__Layer-None</td>\n      <td>1</td>\n      <td>Layer-None</td>\n      <td>-1.0</td>\n      <td>1</td>\n      <td>2019-05-11 00:27:05.798000</td>\n      <td>2019-05-11 04:25:31.313000</td>\n      <td>0</td>\n      <td>40599</td>\n      <td>10.000000</td>\n      <td>122.707650</td>\n      <td>0</td>\n      <td>809</td>\n      <td>NaN</td>\n      <td>False</td>\n    </tr>\n    <tr>\n      <th>1</th>\n      <td>2__School-6705</td>\n      <td>2</td>\n      <td>School-6705</td>\n      <td>-1.0</td>\n      <td>1</td>\n      <td>2019-05-11 04:41:50.157000</td>\n      <td>2019-05-11 04:41:55.438000</td>\n      <td>43384</td>\n      <td>43399</td>\n      <td>115.156400</td>\n      <td>115.726265</td>\n      <td>551</td>\n      <td>577</td>\n      <td>NaN</td>\n      <td>False</td>\n    </tr>\n    <tr>\n      <th>2</th>\n      <td>3__School-6706</td>\n      <td>3</td>\n      <td>School-6706</td>\n      <td>-1.0</td>\n      <td>1</td>\n      <td>2019-05-11 04:41:57.188000</td>\n      <td>2019-05-11 04:42:05.626000</td>\n      <td>43404</td>\n      <td>43428</td>\n      <td>118.598854</td>\n      <td>118.903660</td>\n      <td>552</td>\n      <td>589</td>\n      <td>NaN</td>\n      <td>False</td>\n    </tr>\n    <tr>\n      <th>3</th>\n      <td>4__Layer-None</td>\n      <td>4</td>\n      <td>Layer-None</td>\n      <td>-1.0</td>\n      <td>1</td>\n      <td>2019-05-11 04:25:31.673000</td>\n      <td>2019-05-11 04:55:51.470000</td>\n      <td>40600</td>\n      <td>45778</td>\n      <td>10.000000</td>\n      <td>123.066840</td>\n      <td>0</td>\n      <td>618</td>\n      <td>NaN</td>\n      <td>False</td>\n    </tr>\n    <tr>\n      <th>4</th>\n      <td>5__School-6707</td>\n      <td>5</td>\n      <td>School-6707</td>\n      <td>-1.0</td>\n      <td>1</td>\n      <td>2019-05-11 05:09:34.157000</td>\n      <td>2019-05-11 05:09:52.798000</td>\n      <td>48119</td>\n      <td>48172</td>\n      <td>107.916664</td>\n      <td>109.056370</td>\n      <td>484</td>\n      <td>540</td>\n      <td>NaN</td>\n      <td>False</td>\n    </tr>\n    <tr>\n      <th>...</th>\n      <td>...</td>\n      <td>...</td>\n      <td>...</td>\n      <td>...</td>\n      <td>...</td>\n      <td>...</td>\n      <td>...</td>\n      <td>...</td>\n      <td>...</td>\n      <td>...</td>\n      <td>...</td>\n      <td>...</td>\n      <td>...</td>\n      <td>...</td>\n      <td>...</td>\n    </tr>\n    <tr>\n      <th>1200</th>\n      <td>1201__School-7892</td>\n      <td>1201</td>\n      <td>School-7892</td>\n      <td>27.0</td>\n      <td>1</td>\n      <td>2019-05-11 19:38:04.673000</td>\n      <td>2019-05-11 19:38:12.407000</td>\n      <td>196307</td>\n      <td>196329</td>\n      <td>102.787070</td>\n      <td>103.356926</td>\n      <td>495</td>\n      <td>506</td>\n      <td>-3.0</td>\n      <td>True</td>\n    </tr>\n    <tr>\n      <th>1201</th>\n      <td>1202__School-7893</td>\n      <td>1202</td>\n      <td>School-7893</td>\n      <td>1.0</td>\n      <td>1</td>\n      <td>2019-05-11 19:38:07.485000</td>\n      <td>2019-05-11 19:38:10.298000</td>\n      <td>196315</td>\n      <td>196323</td>\n      <td>100.881050</td>\n      <td>101.071000</td>\n      <td>488</td>\n      <td>494</td>\n      <td>9.0</td>\n      <td>True</td>\n    </tr>\n    <tr>\n      <th>1202</th>\n      <td>1203__School-7894</td>\n      <td>1203</td>\n      <td>School-7894</td>\n      <td>27.0</td>\n      <td>1</td>\n      <td>2019-05-11 19:38:12.766000</td>\n      <td>2019-05-11 19:38:17.688000</td>\n      <td>196330</td>\n      <td>196344</td>\n      <td>102.855900</td>\n      <td>103.425760</td>\n      <td>500</td>\n      <td>505</td>\n      <td>-1.0</td>\n      <td>True</td>\n    </tr>\n    <tr>\n      <th>1203</th>\n      <td>1204__Layer-6772</td>\n      <td>1204</td>\n      <td>Layer-6772</td>\n      <td>-1.0</td>\n      <td>1</td>\n      <td>2019-05-11 19:13:54.079000</td>\n      <td>2019-05-11 19:41:13.766000</td>\n      <td>192181</td>\n      <td>196845</td>\n      <td>10.000000</td>\n      <td>99.503876</td>\n      <td>5</td>\n      <td>529</td>\n      <td>NaN</td>\n      <td>False</td>\n    </tr>\n    <tr>\n      <th>1204</th>\n      <td>1205__Layer-7918</td>\n      <td>1205</td>\n      <td>Layer-7918</td>\n      <td>-1.0</td>\n      <td>1</td>\n      <td>2019-05-11 19:41:14.126000</td>\n      <td>2019-05-11 19:53:30.157000</td>\n      <td>196846</td>\n      <td>198940</td>\n      <td>10.000000</td>\n      <td>105.024100</td>\n      <td>6</td>\n      <td>527</td>\n      <td>NaN</td>\n      <td>False</td>\n    </tr>\n  </tbody>\n</table>\n<p>1205 rows × 15 columns</p>\n</div>"
     },
     "execution_count": 16,
     "metadata": {},
     "output_type": "execute_result"
    }
   ],
   "source": [
    "survey.get_objects_file()"
   ],
   "metadata": {
    "collapsed": false,
    "pycharm": {
     "name": "#%%\n"
    }
   }
  },
  {
   "cell_type": "code",
   "execution_count": 51,
   "outputs": [
    {
     "data": {
      "text/plain": "[1, 27, 6009]"
     },
     "execution_count": 51,
     "metadata": {},
     "output_type": "execute_result"
    }
   ],
   "source": [
    "survey.fish_categories"
   ],
   "metadata": {
    "collapsed": false,
    "pycharm": {
     "name": "#%%\n"
    }
   }
  },
  {
   "cell_type": "code",
   "execution_count": 52,
   "outputs": [
    {
     "name": "stdout",
     "output_type": "stream",
     "text": [
      "Number of 1 is equal to 1069979.0\n",
      "Number of 27 is equal to 1561904.0\n",
      "Number of 6009 is equal to 69792.0\n"
     ]
    }
   ],
   "source": [
    "for i in survey.fish_categories:\n",
    "    print(f'Number of {i} is equal to {survey.annotation.annotation.sel(category=i).sum().values}')"
   ],
   "metadata": {
    "collapsed": false,
    "pycharm": {
     "name": "#%%\n"
    }
   }
  },
  {
   "cell_type": "code",
   "execution_count": 59,
   "outputs": [
    {
     "data": {
      "text/plain": "10493100851"
     },
     "execution_count": 59,
     "metadata": {},
     "output_type": "execute_result"
    }
   ],
   "source": [
    "survey.shape[0]*survey.shape[1] - 1069979 - 1561904 - 69792"
   ],
   "metadata": {
    "collapsed": false,
    "pycharm": {
     "name": "#%%\n"
    }
   }
  },
  {
   "cell_type": "code",
   "execution_count": 103,
   "outputs": [],
   "source": [
    "ot, sd, ps, bg = 1069979,  1561904, 69792, 10493100851\n",
    "summary = np.array([['ot', 'sd', 'ps', 'bg'],[ot, sd, ps, bg]]).T"
   ],
   "metadata": {
    "collapsed": false,
    "pycharm": {
     "name": "#%%\n"
    }
   }
  },
  {
   "cell_type": "code",
   "execution_count": 104,
   "outputs": [
    {
     "name": "stdout",
     "output_type": "stream",
     "text": [
      "0.01 0.01 0.0 99.97\n"
     ]
    }
   ],
   "source": [
    "print (round(ot/bg*100,2), round(sd/bg*100, 2), round(ps/bg*100, 2), round(bg/(bg+ot+sd+ps)*100, 2))"
   ],
   "metadata": {
    "collapsed": false,
    "pycharm": {
     "name": "#%%\n"
    }
   }
  },
  {
   "cell_type": "code",
   "execution_count": 106,
   "outputs": [
    {
     "name": "stderr",
     "output_type": "stream",
     "text": [
      "C:\\Anaconda3\\lib\\site-packages\\seaborn\\_decorators.py:36: FutureWarning: Pass the following variables as keyword args: x, y. From version 0.12, the only valid positional argument will be `data`, and passing other arguments without an explicit keyword will result in an error or misinterpretation.\n",
      "  warnings.warn(\n"
     ]
    },
    {
     "data": {
      "text/plain": "<Figure size 432x288 with 1 Axes>",
      "image/png": "[encoded data removed]"
     },
     "metadata": {},
     "output_type": "display_data"
    }
   ],
   "source": [
    "def plot_sns(raw_data):\n",
    "  data = np.array(raw_data)\n",
    "  x = np.arange(len(raw_data))\n",
    "  sns.axes_style('white')\n",
    "  sns.set_style('white')\n",
    "  ax = sns.barplot(x, data[:,1])\n",
    "  plt.show()\n",
    "\n",
    "plot_sns(summary)"
   ],
   "metadata": {
    "collapsed": false,
    "pycharm": {
     "name": "#%%\n"
    }
   }
  },
  {
   "cell_type": "code",
   "execution_count": null,
   "outputs": [],
   "source": [],
   "metadata": {
    "collapsed": false,
    "pycharm": {
     "name": "#%%\n"
    }
   }
  },
  {
   "cell_type": "code",
   "execution_count": 107,
   "outputs": [
    {
     "data": {
      "text/plain": "array([['ot', '1069979'],\n       ['sd', '1561904'],\n       ['ps', '69792'],\n       ['bg', '10493100851']], dtype='<U21')"
     },
     "execution_count": 107,
     "metadata": {},
     "output_type": "execute_result"
    }
   ],
   "source": [
    "summary"
   ],
   "metadata": {
    "collapsed": false,
    "pycharm": {
     "name": "#%%\n"
    }
   }
  },
  {
   "cell_type": "code",
   "execution_count": 118,
   "outputs": [
    {
     "data": {
      "text/plain": "<Figure size 432x288 with 1 Axes>",
      "image/png": "[encoded data removed]"
     },
     "metadata": {},
     "output_type": "display_data"
    }
   ],
   "source": [
    "\n",
    "plt.bar(summary[:,0], height=summary[:,1].astype('float'))\n",
    "plt.show()"
   ],
   "metadata": {
    "collapsed": false,
    "pycharm": {
     "name": "#%%\n"
    }
   }
  },
  {
   "cell_type": "code",
   "execution_count": null,
   "outputs": [],
   "source": [],
   "metadata": {
    "collapsed": false,
    "pycharm": {
     "name": "#%%\n"
    }
   }
  }
 ],
 "metadata": {
  "kernelspec": {
   "display_name": "Python 3",
   "language": "python",
   "name": "python3"
  },
  "language_info": {
   "codemirror_mode": {
    "name": "ipython",
    "version": 2
   },
   "file_extension": ".py",
   "mimetype": "text/x-python",
   "name": "python",
   "nbconvert_exporter": "python",
   "pygments_lexer": "ipython2",
   "version": "2.7.6"
  }
 },
 "nbformat": 4,
 "nbformat_minor": 0
}